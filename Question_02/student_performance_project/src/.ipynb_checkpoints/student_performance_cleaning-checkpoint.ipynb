{
 "cells": [
  {
   "cell_type": "code",
   "execution_count": 3,
   "id": "cbc42fea",
   "metadata": {},
   "outputs": [
    {
     "name": "stdout",
     "output_type": "stream",
     "text": [
      "   gender race/ethnicity parental level of education         lunch  \\\n",
      "0  female        group B           bachelor's degree      standard   \n",
      "1  female        group C                some college      standard   \n",
      "2  female        group B             master's degree      standard   \n",
      "3    male        group A          associate's degree  free/reduced   \n",
      "4    male        group C                some college      standard   \n",
      "\n",
      "  test preparation course  math score  reading score  writing score  \n",
      "0                    none          72             72             74  \n",
      "1               completed          69             90             88  \n",
      "2                    none          90             95             93  \n",
      "3                    none          47             57             44  \n",
      "4                    none          76             78             75  \n"
     ]
    }
   ],
   "source": [
    "import pandas as pd\n",
    "\n",
    "# The .. goes up a folder to get file\n",
    "file_path = '..\\data_raw\\StudentsPerformance.csv'\n",
    "\n",
    "# Use pandas to read the CSV file and create a DataFrame\n",
    "df = pd.read_csv(file_path)\n",
    "\n",
    "# Now you can work with the DataFrame 'df'\n",
    "print(df.head())  # Display the first few rows"
   ]
  },
  {
   "cell_type": "code",
   "execution_count": 4,
   "id": "472ee57e",
   "metadata": {},
   "outputs": [
    {
     "name": "stdout",
     "output_type": "stream",
     "text": [
      "Filtered DataFrame saved to: ..\\data_clean\\student_performance_cleaning_no_gender_no_lunch.csv\n"
     ]
    }
   ],
   "source": [
    "selected_columns = ['race/ethnicity', 'test preparation course', 'math score', 'reading score', 'writing score']\n",
    "\n",
    "filtered_df = df[selected_columns]\n",
    "\n",
    "output_file_path = '..\\data_clean\\student_performance_cleaning_no_gender_no_lunch.csv'\n",
    "\n",
    "filtered_df.to_csv(output_file_path, index=False)\n",
    "\n",
    "print(\"Filtered DataFrame saved to:\", output_file_path)"
   ]
  },
  {
   "cell_type": "code",
   "execution_count": null,
   "id": "26620136",
   "metadata": {},
   "outputs": [],
   "source": []
  }
 ],
 "metadata": {
  "kernelspec": {
   "display_name": "Python 3 (ipykernel)",
   "language": "python",
   "name": "python3"
  },
  "language_info": {
   "codemirror_mode": {
    "name": "ipython",
    "version": 3
   },
   "file_extension": ".py",
   "mimetype": "text/x-python",
   "name": "python",
   "nbconvert_exporter": "python",
   "pygments_lexer": "ipython3",
   "version": "3.9.13"
  }
 },
 "nbformat": 4,
 "nbformat_minor": 5
}
